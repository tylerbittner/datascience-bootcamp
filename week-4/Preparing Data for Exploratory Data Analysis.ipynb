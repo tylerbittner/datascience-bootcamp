{
 "cells": [
  {
   "cell_type": "markdown",
   "metadata": {},
   "source": [
    "# Introduction\n",
    "This notebook is to practice tidying up & preparing data sets for subsequent exploratory data analysis.\n"
   ]
  },
  {
   "cell_type": "markdown",
   "metadata": {},
   "source": [
    "# Data set used: catalog of the Human Microbiome Project\n",
    "The data set I choose to use for this exercise is The Human Microbiome Project's catalog of microbes inhabiting human bodies, obtained from Kaggle at https://www.kaggle.com/bbhatt001/human-microbiome-project."
   ]
  },
  {
   "cell_type": "markdown",
   "metadata": {},
   "source": [
    "# Initial data exploration"
   ]
  },
  {
   "cell_type": "code",
   "execution_count": 360,
   "metadata": {
    "scrolled": true
   },
   "outputs": [
    {
     "name": "stdout",
     "output_type": "stream",
     "text": [
      "<class 'pandas.core.frame.DataFrame'>\n",
      "RangeIndex: 2915 entries, 0 to 2914\n",
      "Data columns (total 17 columns):\n",
      "HMP ID                     2915 non-null int64\n",
      "GOLD ID                    1783 non-null object\n",
      "Organism Name              2915 non-null object\n",
      "Domain                     2712 non-null object\n",
      "NCBI Superkingdom          2751 non-null object\n",
      "HMP Isolation Body Site    2915 non-null object\n",
      "Project Status             2915 non-null object\n",
      "Current Finishing Level    1579 non-null object\n",
      "NCBI Submission Status     2915 non-null object\n",
      "NCBI Project ID            2915 non-null int64\n",
      "Genbank ID                 1579 non-null object\n",
      "Gene Count                 2915 non-null int64\n",
      "IMG/HMP ID                 2915 non-null int64\n",
      "HOMD ID                    397 non-null object\n",
      "Sequencing Center          2911 non-null object\n",
      "Funding Source             2915 non-null object\n",
      "Strain Repository ID       1377 non-null object\n",
      "dtypes: int64(4), object(13)\n",
      "memory usage: 387.2+ KB\n"
     ]
    }
   ],
   "source": [
    "import pandas as pd\n",
    "\n",
    "df = pd.read_csv('datasets/human-microbiome-project/project_catalog.csv')\n",
    "df.info()"
   ]
  },
  {
   "cell_type": "code",
   "execution_count": 361,
   "metadata": {},
   "outputs": [
    {
     "data": {
      "text/html": [
       "<div>\n",
       "<style>\n",
       "    .dataframe thead tr:only-child th {\n",
       "        text-align: right;\n",
       "    }\n",
       "\n",
       "    .dataframe thead th {\n",
       "        text-align: left;\n",
       "    }\n",
       "\n",
       "    .dataframe tbody tr th {\n",
       "        vertical-align: top;\n",
       "    }\n",
       "</style>\n",
       "<table border=\"1\" class=\"dataframe\">\n",
       "  <thead>\n",
       "    <tr style=\"text-align: right;\">\n",
       "      <th></th>\n",
       "      <th>HMP ID</th>\n",
       "      <th>GOLD ID</th>\n",
       "      <th>Organism Name</th>\n",
       "      <th>Domain</th>\n",
       "      <th>NCBI Superkingdom</th>\n",
       "      <th>HMP Isolation Body Site</th>\n",
       "      <th>Project Status</th>\n",
       "      <th>Current Finishing Level</th>\n",
       "      <th>NCBI Submission Status</th>\n",
       "      <th>NCBI Project ID</th>\n",
       "      <th>Genbank ID</th>\n",
       "      <th>Gene Count</th>\n",
       "      <th>IMG/HMP ID</th>\n",
       "      <th>HOMD ID</th>\n",
       "      <th>Sequencing Center</th>\n",
       "      <th>Funding Source</th>\n",
       "      <th>Strain Repository ID</th>\n",
       "    </tr>\n",
       "  </thead>\n",
       "  <tbody>\n",
       "    <tr>\n",
       "      <th>0</th>\n",
       "      <td>1</td>\n",
       "      <td>Gi03551</td>\n",
       "      <td>Abiotrophia defectiva ATCC 49176</td>\n",
       "      <td>BACTERIAL</td>\n",
       "      <td>Bacteria</td>\n",
       "      <td>oral</td>\n",
       "      <td>Complete</td>\n",
       "      <td>Level 3: Improved-High-Quality Draft</td>\n",
       "      <td>6. annotation (and sequence) public on NCBI site</td>\n",
       "      <td>33011</td>\n",
       "      <td>ACIN00000000</td>\n",
       "      <td>1950</td>\n",
       "      <td>643886181</td>\n",
       "      <td>HOMD: tax_389</td>\n",
       "      <td>Washington University Genome Sequencing Center</td>\n",
       "      <td>NIH-HMP Jumpstart Supplement</td>\n",
       "      <td>ATCC 49176, CIP 103242</td>\n",
       "    </tr>\n",
       "    <tr>\n",
       "      <th>1</th>\n",
       "      <td>4</td>\n",
       "      <td>Gi03555</td>\n",
       "      <td>Achromobacter piechaudii ATCC 43553</td>\n",
       "      <td>BACTERIAL</td>\n",
       "      <td>Bacteria</td>\n",
       "      <td>airways</td>\n",
       "      <td>Complete</td>\n",
       "      <td>Level 2: High-Quality Draft</td>\n",
       "      <td>6. annotation (and sequence) public on NCBI site</td>\n",
       "      <td>46343</td>\n",
       "      <td>ADMS00000000</td>\n",
       "      <td>5755</td>\n",
       "      <td>647000200</td>\n",
       "      <td>NaN</td>\n",
       "      <td>Baylor College of Medicine</td>\n",
       "      <td>NIH-HMP Jumpstart Supplement</td>\n",
       "      <td>ATCC 43553, CIP 55774, LMG 6100</td>\n",
       "    </tr>\n",
       "    <tr>\n",
       "      <th>2</th>\n",
       "      <td>5</td>\n",
       "      <td>Gi03554</td>\n",
       "      <td>Achromobacter xylosoxidans C54</td>\n",
       "      <td>BACTERIAL</td>\n",
       "      <td>Bacteria</td>\n",
       "      <td>airways</td>\n",
       "      <td>Complete</td>\n",
       "      <td>Level 5: Non-contiguous Finished</td>\n",
       "      <td>6. annotation (and sequence) public on NCBI site</td>\n",
       "      <td>38739</td>\n",
       "      <td>ACRC00000000</td>\n",
       "      <td>6010</td>\n",
       "      <td>0</td>\n",
       "      <td>HOMD: tax_343</td>\n",
       "      <td>Broad Institute</td>\n",
       "      <td>NIH-HMP Jumpstart Supplement</td>\n",
       "      <td>BEI HM-235</td>\n",
       "    </tr>\n",
       "    <tr>\n",
       "      <th>3</th>\n",
       "      <td>10</td>\n",
       "      <td>Gi03422</td>\n",
       "      <td>Acinetobacter baumannii ATCC 19606</td>\n",
       "      <td>BACTERIAL</td>\n",
       "      <td>Bacteria</td>\n",
       "      <td>urogenital_tract</td>\n",
       "      <td>Complete</td>\n",
       "      <td>Level 2: High-Quality Draft</td>\n",
       "      <td>6. annotation (and sequence) public on NCBI site</td>\n",
       "      <td>38509</td>\n",
       "      <td>ACQB00000000</td>\n",
       "      <td>3832</td>\n",
       "      <td>647533101</td>\n",
       "      <td>HOMD: tax_554</td>\n",
       "      <td>Broad Institute</td>\n",
       "      <td>NIH-HMP Jumpstart Supplement</td>\n",
       "      <td>ATCC 19606, DSM 6974</td>\n",
       "    </tr>\n",
       "    <tr>\n",
       "      <th>4</th>\n",
       "      <td>12</td>\n",
       "      <td>Gi03421</td>\n",
       "      <td>Acinetobacter calcoaceticus RUH2202</td>\n",
       "      <td>BACTERIAL</td>\n",
       "      <td>Bacteria</td>\n",
       "      <td>skin</td>\n",
       "      <td>Complete</td>\n",
       "      <td>Level 2: High-Quality Draft</td>\n",
       "      <td>6. annotation (and sequence) public on NCBI site</td>\n",
       "      <td>38337</td>\n",
       "      <td>ACPK00000000</td>\n",
       "      <td>3632</td>\n",
       "      <td>646206267</td>\n",
       "      <td>NaN</td>\n",
       "      <td>Broad Institute</td>\n",
       "      <td>NIH-HMP Jumpstart Supplement</td>\n",
       "      <td>LMG 10517</td>\n",
       "    </tr>\n",
       "  </tbody>\n",
       "</table>\n",
       "</div>"
      ],
      "text/plain": [
       "   HMP ID  GOLD ID                        Organism Name     Domain  \\\n",
       "0       1  Gi03551     Abiotrophia defectiva ATCC 49176  BACTERIAL   \n",
       "1       4  Gi03555  Achromobacter piechaudii ATCC 43553  BACTERIAL   \n",
       "2       5  Gi03554       Achromobacter xylosoxidans C54  BACTERIAL   \n",
       "3      10  Gi03422   Acinetobacter baumannii ATCC 19606  BACTERIAL   \n",
       "4      12  Gi03421  Acinetobacter calcoaceticus RUH2202  BACTERIAL   \n",
       "\n",
       "  NCBI Superkingdom HMP Isolation Body Site Project Status  \\\n",
       "0          Bacteria                    oral       Complete   \n",
       "1          Bacteria                 airways       Complete   \n",
       "2          Bacteria                 airways       Complete   \n",
       "3          Bacteria        urogenital_tract       Complete   \n",
       "4          Bacteria                    skin       Complete   \n",
       "\n",
       "                Current Finishing Level  \\\n",
       "0  Level 3: Improved-High-Quality Draft   \n",
       "1           Level 2: High-Quality Draft   \n",
       "2      Level 5: Non-contiguous Finished   \n",
       "3           Level 2: High-Quality Draft   \n",
       "4           Level 2: High-Quality Draft   \n",
       "\n",
       "                             NCBI Submission Status  NCBI Project ID  \\\n",
       "0  6. annotation (and sequence) public on NCBI site            33011   \n",
       "1  6. annotation (and sequence) public on NCBI site            46343   \n",
       "2  6. annotation (and sequence) public on NCBI site            38739   \n",
       "3  6. annotation (and sequence) public on NCBI site            38509   \n",
       "4  6. annotation (and sequence) public on NCBI site            38337   \n",
       "\n",
       "     Genbank ID  Gene Count  IMG/HMP ID        HOMD ID  \\\n",
       "0  ACIN00000000        1950   643886181  HOMD: tax_389   \n",
       "1  ADMS00000000        5755   647000200            NaN   \n",
       "2  ACRC00000000        6010           0  HOMD: tax_343   \n",
       "3  ACQB00000000        3832   647533101  HOMD: tax_554   \n",
       "4  ACPK00000000        3632   646206267            NaN   \n",
       "\n",
       "                                Sequencing Center  \\\n",
       "0  Washington University Genome Sequencing Center   \n",
       "1                      Baylor College of Medicine   \n",
       "2                                 Broad Institute   \n",
       "3                                 Broad Institute   \n",
       "4                                 Broad Institute   \n",
       "\n",
       "                 Funding Source             Strain Repository ID  \n",
       "0  NIH-HMP Jumpstart Supplement           ATCC 49176, CIP 103242  \n",
       "1  NIH-HMP Jumpstart Supplement  ATCC 43553, CIP 55774, LMG 6100  \n",
       "2  NIH-HMP Jumpstart Supplement                       BEI HM-235  \n",
       "3  NIH-HMP Jumpstart Supplement             ATCC 19606, DSM 6974  \n",
       "4  NIH-HMP Jumpstart Supplement                        LMG 10517  "
      ]
     },
     "execution_count": 361,
     "metadata": {},
     "output_type": "execute_result"
    }
   ],
   "source": [
    "df.head()"
   ]
  },
  {
   "cell_type": "code",
   "execution_count": 362,
   "metadata": {},
   "outputs": [
    {
     "data": {
      "text/plain": [
       "Int64Index([   1,    4,    5,   10,   12,   13,   14,   15,   16,   17,\n",
       "            ...\n",
       "            9990, 9991, 9992, 9993, 9994, 9995, 9996, 9997, 9998, 9999],\n",
       "           dtype='int64', name='HMP ID', length=2915)"
      ]
     },
     "execution_count": 362,
     "metadata": {},
     "output_type": "execute_result"
    }
   ],
   "source": [
    "# \"HMP ID\" appears to be the unique ID for organisms, so let's make it an index\n",
    "df.set_index(\"HMP ID\", inplace=True)\n",
    "df.index"
   ]
  },
  {
   "cell_type": "code",
   "execution_count": 363,
   "metadata": {},
   "outputs": [
    {
     "data": {
      "text/html": [
       "<div>\n",
       "<style>\n",
       "    .dataframe thead tr:only-child th {\n",
       "        text-align: right;\n",
       "    }\n",
       "\n",
       "    .dataframe thead th {\n",
       "        text-align: left;\n",
       "    }\n",
       "\n",
       "    .dataframe tbody tr th {\n",
       "        vertical-align: top;\n",
       "    }\n",
       "</style>\n",
       "<table border=\"1\" class=\"dataframe\">\n",
       "  <thead>\n",
       "    <tr style=\"text-align: right;\">\n",
       "      <th></th>\n",
       "      <th>NCBI Project ID</th>\n",
       "      <th>Gene Count</th>\n",
       "      <th>IMG/HMP ID</th>\n",
       "    </tr>\n",
       "  </thead>\n",
       "  <tbody>\n",
       "    <tr>\n",
       "      <th>count</th>\n",
       "      <td>2915.000000</td>\n",
       "      <td>2915.000000</td>\n",
       "      <td>2.915000e+03</td>\n",
       "    </tr>\n",
       "    <tr>\n",
       "      <th>mean</th>\n",
       "      <td>152890.012007</td>\n",
       "      <td>1474.622642</td>\n",
       "      <td>2.250715e+08</td>\n",
       "    </tr>\n",
       "    <tr>\n",
       "      <th>std</th>\n",
       "      <td>104857.664414</td>\n",
       "      <td>1653.762393</td>\n",
       "      <td>5.295180e+08</td>\n",
       "    </tr>\n",
       "    <tr>\n",
       "      <th>min</th>\n",
       "      <td>0.000000</td>\n",
       "      <td>0.000000</td>\n",
       "      <td>0.000000e+00</td>\n",
       "    </tr>\n",
       "    <tr>\n",
       "      <th>25%</th>\n",
       "      <td>49365.000000</td>\n",
       "      <td>0.000000</td>\n",
       "      <td>0.000000e+00</td>\n",
       "    </tr>\n",
       "    <tr>\n",
       "      <th>50%</th>\n",
       "      <td>169465.000000</td>\n",
       "      <td>1517.000000</td>\n",
       "      <td>0.000000e+00</td>\n",
       "    </tr>\n",
       "    <tr>\n",
       "      <th>75%</th>\n",
       "      <td>269820.500000</td>\n",
       "      <td>2489.500000</td>\n",
       "      <td>0.000000e+00</td>\n",
       "    </tr>\n",
       "    <tr>\n",
       "      <th>max</th>\n",
       "      <td>311149.000000</td>\n",
       "      <td>8490.000000</td>\n",
       "      <td>2.524023e+09</td>\n",
       "    </tr>\n",
       "  </tbody>\n",
       "</table>\n",
       "</div>"
      ],
      "text/plain": [
       "       NCBI Project ID   Gene Count    IMG/HMP ID\n",
       "count      2915.000000  2915.000000  2.915000e+03\n",
       "mean     152890.012007  1474.622642  2.250715e+08\n",
       "std      104857.664414  1653.762393  5.295180e+08\n",
       "min           0.000000     0.000000  0.000000e+00\n",
       "25%       49365.000000     0.000000  0.000000e+00\n",
       "50%      169465.000000  1517.000000  0.000000e+00\n",
       "75%      269820.500000  2489.500000  0.000000e+00\n",
       "max      311149.000000  8490.000000  2.524023e+09"
      ]
     },
     "execution_count": 363,
     "metadata": {},
     "output_type": "execute_result"
    }
   ],
   "source": [
    "df.describe()"
   ]
  },
  {
   "cell_type": "markdown",
   "metadata": {},
   "source": [
    "## Check out the categorical variables"
   ]
  },
  {
   "cell_type": "code",
   "execution_count": 364,
   "metadata": {},
   "outputs": [
    {
     "name": "stdout",
     "output_type": "stream",
     "text": [
      "\"Domain\": ['ARCHAEAL' 'BACTERIAL' 'EUKARYAL' 'VIRUS']\n",
      "\"NCBI Superkingdom\": ['Archaea' 'Bacteria' 'Error!!!' 'Eukaryota' 'Viruses']\n",
      "\"HMP Isolation Body Site\": ['airways' 'blood' 'bone' 'ear' 'eye' 'gastrointestinal_tract' 'heart'\n",
      " 'liver' 'lymph_nodes' 'nose' 'oral' 'other' 'skin' 'unknown'\n",
      " 'urogenital_tract' 'wound']\n",
      "\"Current Finishing Level\": ['Level 1: Standard Draft' 'Level 2: High-Quality Draft'\n",
      " 'Level 3: Improved-High-Quality Draft' 'Level 5: Non-contiguous Finished'\n",
      " 'Level 6: Finished']\n",
      "\"Sequencing Center\": ['Baylor College of Medicine' 'Broad Institute' 'J. Craig Venter Institute'\n",
      " 'NIH Intramural Sequencing Center (NISC)' 'Sanger Institute'\n",
      " 'Univ of Tokyo' 'Virginia Commonwealth Univ' 'Wakayama Medical Univ'\n",
      " 'Washington University Genome Sequencing Center']\n",
      "\"Funding Source\": ['IHMC-DARPA' 'IHMC-JST' 'IHMC-MetaHIT' 'NIH-HMP' 'NIH-HMP Demo Projects'\n",
      " 'NIH-HMP Jumpstart Supplement' 'NIH-HMP NHGRI' 'NIH-HMP Sequencing Center'\n",
      " 'NIH-NHGRI' 'NIH-NIAID']\n"
     ]
    }
   ],
   "source": [
    "categoricals = ['Domain', 'NCBI Superkingdom', 'HMP Isolation Body Site', 'Current Finishing Level', 'Sequencing Center', 'Funding Source']\n",
    "for cat in categoricals:\n",
    "    print('\"' + cat + '\": ' + str(pd.Categorical(df[cat]).categories.values))"
   ]
  },
  {
   "cell_type": "markdown",
   "metadata": {},
   "source": [
    "## Plot basic value frequencies"
   ]
  },
  {
   "cell_type": "code",
   "execution_count": 365,
   "metadata": {},
   "outputs": [
    {
     "data": {
      "image/png": "[encoded data removed]",
      "text/plain": [
       "<matplotlib.figure.Figure at 0x10c4cdeb8>"
      ]
     },
     "metadata": {},
     "output_type": "display_data"
    },
    {
     "data": {
      "image/png": "[encoded data removed]",
      "text/plain": [
       "<matplotlib.figure.Figure at 0x10c635438>"
      ]
     },
     "metadata": {},
     "output_type": "display_data"
    },
    {
     "data": {
      "image/png": "[encoded data removed]",
      "text/plain": [
       "<matplotlib.figure.Figure at 0x10c5e56d8>"
      ]
     },
     "metadata": {},
     "output_type": "display_data"
    },
    {
     "data": {
      "image/png": "[encoded data removed]",
      "text/plain": [
       "<matplotlib.figure.Figure at 0x1094aa828>"
      ]
     },
     "metadata": {},
     "output_type": "display_data"
    },
    {
     "data": {
      "image/png": "[encoded data removed]",
      "text/plain": [
       "<matplotlib.figure.Figure at 0x10a2e7ef0>"
      ]
     },
     "metadata": {},
     "output_type": "display_data"
    },
    {
     "data": {
      "image/png": "[encoded data removed]",
      "text/plain": [
       "<matplotlib.figure.Figure at 0x10c6356a0>"
      ]
     },
     "metadata": {},
     "output_type": "display_data"
    },
    {
     "data": {
      "image/png": "[encoded data removed]",
      "text/plain": [
       "<matplotlib.figure.Figure at 0x10a79dbe0>"
      ]
     },
     "metadata": {},
     "output_type": "display_data"
    }
   ],
   "source": [
    "import matplotlib.pyplot as plt\n",
    "\n",
    "# Plot numerics as histograms:\n",
    "df['Gene Count'].plot('hist')\n",
    "plt.xlabel('Gene Count')\n",
    "plt.show()\n",
    "\n",
    "# Plot categoricals as bars:\n",
    "for cat in categoricals:\n",
    "    df[cat].value_counts().plot(kind='bar', log=True)\n",
    "    plt.xlabel(cat)\n",
    "    plt.show()"
   ]
  },
  {
   "cell_type": "markdown",
   "metadata": {},
   "source": [
    "## Look for variable correlations"
   ]
  },
  {
   "cell_type": "code",
   "execution_count": 366,
   "metadata": {},
   "outputs": [
    {
     "data": {
      "text/html": [
       "<div>\n",
       "<style>\n",
       "    .dataframe thead tr:only-child th {\n",
       "        text-align: right;\n",
       "    }\n",
       "\n",
       "    .dataframe thead th {\n",
       "        text-align: left;\n",
       "    }\n",
       "\n",
       "    .dataframe tbody tr th {\n",
       "        vertical-align: top;\n",
       "    }\n",
       "</style>\n",
       "<table border=\"1\" class=\"dataframe\">\n",
       "  <thead>\n",
       "    <tr style=\"text-align: right;\">\n",
       "      <th></th>\n",
       "      <th>NCBI Project ID</th>\n",
       "      <th>Gene Count</th>\n",
       "      <th>IMG/HMP ID</th>\n",
       "    </tr>\n",
       "  </thead>\n",
       "  <tbody>\n",
       "    <tr>\n",
       "      <th>NCBI Project ID</th>\n",
       "      <td>1.000000</td>\n",
       "      <td>-0.606112</td>\n",
       "      <td>-0.429478</td>\n",
       "    </tr>\n",
       "    <tr>\n",
       "      <th>Gene Count</th>\n",
       "      <td>-0.606112</td>\n",
       "      <td>1.000000</td>\n",
       "      <td>0.334027</td>\n",
       "    </tr>\n",
       "    <tr>\n",
       "      <th>IMG/HMP ID</th>\n",
       "      <td>-0.429478</td>\n",
       "      <td>0.334027</td>\n",
       "      <td>1.000000</td>\n",
       "    </tr>\n",
       "  </tbody>\n",
       "</table>\n",
       "</div>"
      ],
      "text/plain": [
       "                 NCBI Project ID  Gene Count  IMG/HMP ID\n",
       "NCBI Project ID         1.000000   -0.606112   -0.429478\n",
       "Gene Count             -0.606112    1.000000    0.334027\n",
       "IMG/HMP ID             -0.429478    0.334027    1.000000"
      ]
     },
     "execution_count": 366,
     "metadata": {},
     "output_type": "execute_result"
    }
   ],
   "source": [
    "df.corr()"
   ]
  },
  {
   "cell_type": "markdown",
   "metadata": {},
   "source": [
    "# Assessment\n",
    "For my purpose I will describe this data set's symantics as follows.\n",
    "\n",
    "The **variables** are:\n",
    "- name\n",
    "- body site\n",
    "- gene count\n",
    "- domain/superkingdom\n",
    "- various organism IDs\n",
    "- various project attributes: IDs, statuses, funding\n",
    "- sequencing center attributes\n",
    "\n",
    "The included **observations** are:\n",
    "- organisms\n",
    "- projects, sequencing centers, and funding info\n",
    "\n",
    "# Clean up & prep tasks\n",
    "Based on the above I will make the decision to isolate only the most interesting observations -- those pertaining directly to the organisms.  Therefore I will clean the data set in the following ways:\n",
    "1. exclude variables which are not directly related to the organisms, i.e. project and sequencing center information\n",
    "1. determine whether observations with incomplete project statuses are worth including in the final data set\n",
    "   - See what PROJECT STATUS correlates too\n",
    "   - See if GENE COUNT and project status's correlate\n",
    "1. look for any missing data and remove or impute them where reasonable. Examples:\n",
    "   - 'Gene Count' == 0.  Should be reasonable to imput with the avg of the field, or per body site group if there turns out to be a significant correlation.\n",
    "   - 'NCBI Superkingdom' == 'Error!!!'\n",
    "   - 'Domain' and 'NCBI Superkingdom' contain NaNs\n",
    "1. look for and clean up any redundant data\n",
    "1. clean up any outliers"
   ]
  },
  {
   "cell_type": "markdown",
   "metadata": {},
   "source": [
    "## Clean up task: Exclude irrelevant information\n",
    "Let's take a look at all the unique values and their frequency counts to assess the data more deeply and broadly."
   ]
  },
  {
   "cell_type": "code",
   "execution_count": 367,
   "metadata": {},
   "outputs": [
    {
     "name": "stdout",
     "output_type": "stream",
     "text": [
      "\n",
      "=======================================\n",
      "GOLD ID:\n",
      "NaN          1132\n",
      "Gc00809         1\n",
      "Gi0049271       1\n",
      "Gi09085         1\n",
      "Gi11044         1\n",
      "Name: GOLD ID, dtype: int64\n",
      "\n",
      "=======================================\n",
      "Organism Name:\n",
      "Aeromonas veronii AMC34                  3\n",
      "Facklamia languida CCUG 37842            2\n",
      "butyrate-producing bacterium SS3/4       2\n",
      "Clostridium ramosum DSM 1402             2\n",
      "Haemophilus parainfluenzae ATCC 33392    2\n",
      "Name: Organism Name, dtype: int64\n",
      "\n",
      "=======================================\n",
      "Domain:\n",
      "BACTERIAL    2696\n",
      "NaN           203\n",
      "EUKARYAL        8\n",
      "VIRUS           6\n",
      "ARCHAEAL        2\n",
      "Name: Domain, dtype: int64\n",
      "\n",
      "=======================================\n",
      "NCBI Superkingdom:\n",
      "Bacteria     2732\n",
      "NaN           164\n",
      "Eukaryota       8\n",
      "Viruses         6\n",
      "Error!!!        3\n",
      "Name: NCBI Superkingdom, dtype: int64\n",
      "\n",
      "=======================================\n",
      "HMP Isolation Body Site:\n",
      "gastrointestinal_tract    745\n",
      "unknown                   654\n",
      "urogenital_tract          529\n",
      "oral                      347\n",
      "skin                      267\n",
      "Name: HMP Isolation Body Site, dtype: int64\n",
      "\n",
      "=======================================\n",
      "Project Status:\n",
      "Complete       1579\n",
      "In Progress    1336\n",
      "Name: Project Status, dtype: int64\n",
      "\n",
      "=======================================\n",
      "Current Finishing Level:\n",
      "Level 2: High-Quality Draft             1404\n",
      "NaN                                     1336\n",
      "Level 3: Improved-High-Quality Draft     101\n",
      "Level 6: Finished                         39\n",
      "Level 5: Non-contiguous Finished          29\n",
      "Name: Current Finishing Level, dtype: int64\n",
      "\n",
      "=======================================\n",
      "NCBI Submission Status:\n",
      "6. annotation (and sequence) public on NCBI site    1579\n",
      "2. project has NCBI project id                       722\n",
      "4. sequence public on NCBI site                      553\n",
      "0. project has not been submitted to NCBI             61\n",
      "Name: NCBI Submission Status, dtype: int64\n",
      "\n",
      "=======================================\n",
      "NCBI Project ID:\n",
      "0         76\n",
      "73477      7\n",
      "296186     1\n",
      "296200     1\n",
      "296198     1\n",
      "Name: NCBI Project ID, dtype: int64\n",
      "\n",
      "=======================================\n",
      "Genbank ID:\n",
      "NaN             1336\n",
      "AGDO00000000       2\n",
      "AJZR00000000       2\n",
      "AEBP00000000       1\n",
      "AP008937           1\n",
      "Name: Genbank ID, dtype: int64\n",
      "\n",
      "=======================================\n",
      "Gene Count:\n",
      "0       1392\n",
      "2529       5\n",
      "2428       4\n",
      "2350       4\n",
      "1929       4\n",
      "Name: Gene Count, dtype: int64\n",
      "\n",
      "=======================================\n",
      "IMG/HMP ID:\n",
      "0             2233\n",
      "649633019        1\n",
      "2513237300       1\n",
      "2513237288       1\n",
      "2513237286       1\n",
      "Name: IMG/HMP ID, dtype: int64\n",
      "\n",
      "=======================================\n",
      "HOMD ID:\n",
      "NaN              2518\n",
      "HOMD: tax_530      69\n",
      "HOMD: tax_838      14\n",
      "HOMD: tax_817       7\n",
      "HOMD: tax_839       7\n",
      "Name: HOMD ID, dtype: int64\n",
      "\n",
      "=======================================\n",
      "Sequencing Center:\n",
      "Washington University Genome Sequencing Center    1370\n",
      "Broad Institute                                    746\n",
      "J. Craig Venter Institute                          507\n",
      "Baylor College of Medicine                         190\n",
      "Sanger Institute                                    35\n",
      "Name: Sequencing Center, dtype: int64\n",
      "\n",
      "=======================================\n",
      "Funding Source:\n",
      "NIH-HMP Sequencing Center       1802\n",
      "NIH-HMP                          477\n",
      "NIH-HMP Jumpstart Supplement     265\n",
      "NIH-HMP Demo Projects            118\n",
      "NIH-NHGRI                         89\n",
      "Name: Funding Source, dtype: int64\n",
      "\n",
      "=======================================\n",
      "Strain Repository ID:\n",
      "NaN               1538\n",
      "BEI Processing      89\n",
      "BEI Contacted        5\n",
      "BEI Shipping         3\n",
      "CCUG 27560           2\n",
      "Name: Strain Repository ID, dtype: int64\n"
     ]
    }
   ],
   "source": [
    "for col in df.columns:\n",
    "    print('\\n=======================================')\n",
    "    print(col + \":\")\n",
    "    print(df[col].value_counts(dropna=False).head())"
   ]
  },
  {
   "cell_type": "markdown",
   "metadata": {},
   "source": [
    "Based on both the [description of column definitions here](https://www.kaggle.com/bbhatt001/human-microbiome-project) and the above value counts output we can determine some non-essential variables to exclude:\n",
    "- **External IDs**. A number of IDs reference external databases and are only populated where a references exists or has been manually populated.  These are non-unique IDs and containing NaNs so let's clean them out:\n",
    "    - `GOLD ID` - References the Genomes Online Databasee.\n",
    "    - `Genbank ID` - References the GenBank sequence database.\n",
    "    - `IMG/HMP ID` - References the Integrated Microbial Genomes system.\n",
    "    - `HOMD ID` - References the Human Oral Microbiome Database.\n",
    "    - `Strain Repository ID` - Actually references *multiple different types* of external databases where the cultures appear to be physically stored.  Another level of untidiness we can fortunately do without.\n",
    "- **Project-related variables** (columns listed below)"
   ]
  },
  {
   "cell_type": "code",
   "execution_count": 368,
   "metadata": {},
   "outputs": [
    {
     "name": "stdout",
     "output_type": "stream",
     "text": [
      "<class 'pandas.core.frame.DataFrame'>\n",
      "Int64Index: 2915 entries, 1 to 9999\n",
      "Data columns (total 5 columns):\n",
      "Organism Name              2915 non-null object\n",
      "Domain                     2712 non-null object\n",
      "NCBI Superkingdom          2751 non-null object\n",
      "HMP Isolation Body Site    2915 non-null object\n",
      "Gene Count                 2915 non-null int64\n",
      "dtypes: int64(1), object(4)\n",
      "memory usage: 136.6+ KB\n"
     ]
    }
   ],
   "source": [
    "extra_ids = ['GOLD ID', 'Genbank ID', 'IMG/HMP ID', 'HOMD ID', 'Strain Repository ID']\n",
    "project_variables = ['Project Status', 'Current Finishing Level', 'NCBI Submission Status', 'NCBI Project ID', 'Sequencing Center', 'Funding Source']\n",
    "\n",
    "organisms_df = df.drop(extra_ids + project_variables, axis=1)\n",
    "\n",
    "# Which leaves us with these core columns:\n",
    "organisms_df.info()"
   ]
  },
  {
   "cell_type": "markdown",
   "metadata": {},
   "source": [
    "## Clean up task: missing values"
   ]
  },
  {
   "cell_type": "code",
   "execution_count": 369,
   "metadata": {},
   "outputs": [
    {
     "data": {
      "text/plain": [
       "Organism Name              False\n",
       "Domain                      True\n",
       "NCBI Superkingdom           True\n",
       "HMP Isolation Body Site    False\n",
       "Gene Count                 False\n",
       "dtype: bool"
      ]
     },
     "execution_count": 369,
     "metadata": {},
     "output_type": "execute_result"
    }
   ],
   "source": [
    "organisms_df.isnull().any()"
   ]
  },
  {
   "cell_type": "markdown",
   "metadata": {},
   "source": [
    "The `Domain` and `NCBI Superkingdom` clearly contain NaNs however are mostly redundant so we'll combine them further below."
   ]
  },
  {
   "cell_type": "markdown",
   "metadata": {},
   "source": [
    "### \"HMP Isolation Body Site\"\n",
    "`HMP Isolation Body Site` actually contains \"unknown\" values.  It's not reasonable to try to impute any value here so let's convert these to None."
   ]
  },
  {
   "cell_type": "code",
   "execution_count": 377,
   "metadata": {},
   "outputs": [
    {
     "data": {
      "text/plain": [
       "gastrointestinal_tract    745\n",
       "unknown                   654\n",
       "urogenital_tract          529\n",
       "oral                      347\n",
       "skin                      267\n",
       "airways                   236\n",
       "blood                      75\n",
       "bone                       27\n",
       "other                      13\n",
       "eye                         8\n",
       "ear                         4\n",
       "wound                       4\n",
       "heart                       2\n",
       "nose                        2\n",
       "liver                       1\n",
       "lymph_nodes                 1\n",
       "Name: HMP Isolation Body Site, dtype: int64"
      ]
     },
     "execution_count": 377,
     "metadata": {},
     "output_type": "execute_result"
    }
   ],
   "source": [
    "organisms_df['HMP Isolation Body Site'].value_counts(dropna=False)"
   ]
  },
  {
   "cell_type": "code",
   "execution_count": 380,
   "metadata": {},
   "outputs": [
    {
     "data": {
      "text/plain": [
       "gastrointestinal_tract    745\n",
       "NaN                       654\n",
       "urogenital_tract          529\n",
       "oral                      347\n",
       "skin                      267\n",
       "airways                   236\n",
       "blood                      75\n",
       "bone                       27\n",
       "other                      13\n",
       "eye                         8\n",
       "ear                         4\n",
       "wound                       4\n",
       "heart                       2\n",
       "nose                        2\n",
       "liver                       1\n",
       "lymph_nodes                 1\n",
       "Name: HMP Isolation Body Site - clean, dtype: int64"
      ]
     },
     "execution_count": 380,
     "metadata": {},
     "output_type": "execute_result"
    }
   ],
   "source": [
    "organisms_df['HMP Isolation Body Site - clean'] = organisms_df['HMP Isolation Body Site'].replace({'unknown': None})\n",
    "\n",
    "###\n",
    "# Note the \"gotcha\" in replace() -- we must use the dict format for the first param, otherwise specifify a single str value to replace uses method=pad by default, which is not what we want!\n",
    "# See the \"peculiarity\" explained in the last few paragraphs of the docs: https://pandas.pydata.org/pandas-docs/version/0.23.4/generated/pandas.Series.replace.html?highlight=replace\n",
    "###\n",
    "\n",
    "organisms_df['HMP Isolation Body Site - clean'].value_counts(dropna=False)"
   ]
  },
  {
   "cell_type": "markdown",
   "metadata": {},
   "source": [
    "### \"Gene Count\"\n",
    "`Gene Count` contains many zeros and it's reasonable to impute a value for these using the median."
   ]
  },
  {
   "cell_type": "code",
   "execution_count": 381,
   "metadata": {},
   "outputs": [
    {
     "data": {
      "text/plain": [
       "0       1392\n",
       "2529       5\n",
       "2428       4\n",
       "2350       4\n",
       "1929       4\n",
       "Name: Gene Count, dtype: int64"
      ]
     },
     "execution_count": 381,
     "metadata": {},
     "output_type": "execute_result"
    }
   ],
   "source": [
    "organisms_df['Gene Count'].value_counts(dropna=False).head()"
   ]
  },
  {
   "cell_type": "code",
   "execution_count": null,
   "metadata": {},
   "outputs": [],
   "source": [
    "gene_count_median = int(organisms_df['Gene Count'].median())\n",
    "print(gene_count_median)\n",
    "organisms_df['Gene Count'].fillna(gene_count_median, inplace=True)\n",
    "\n",
    "# Verify results\n",
    "organisms_df['Gene Count'].value_counts(dropna=False).head()\n",
    "\n",
    "# TODO: Correct this :)"
   ]
  },
  {
   "cell_type": "markdown",
   "metadata": {},
   "source": [
    "Check out results of \"cleaning\" the NaN/None values:"
   ]
  },
  {
   "cell_type": "code",
   "execution_count": 374,
   "metadata": {},
   "outputs": [
    {
     "data": {
      "text/plain": [
       "Organism Name                      False\n",
       "Domain                              True\n",
       "NCBI Superkingdom                   True\n",
       "HMP Isolation Body Site            False\n",
       "Gene Count                         False\n",
       "HMP Isolation Body Site - clean     True\n",
       "dtype: bool"
      ]
     },
     "execution_count": 374,
     "metadata": {},
     "output_type": "execute_result"
    }
   ],
   "source": [
    "organisms_df.isnull().any()"
   ]
  },
  {
   "cell_type": "markdown",
   "metadata": {},
   "source": [
    "## Clean up task: Remove redundant variables\n",
    "The `Domain` and `NCBI Superkingdom` fields are mostly redundant so let's choose the most complete of the two to keep."
   ]
  },
  {
   "cell_type": "code",
   "execution_count": null,
   "metadata": {
    "collapsed": true
   },
   "outputs": [],
   "source": [
    "# TODO"
   ]
  },
  {
   "cell_type": "markdown",
   "metadata": {},
   "source": [
    "## Clean up task: Outliers"
   ]
  },
  {
   "cell_type": "code",
   "execution_count": null,
   "metadata": {
    "collapsed": true
   },
   "outputs": [],
   "source": [
    "# TODO"
   ]
  },
  {
   "cell_type": "markdown",
   "metadata": {},
   "source": [
    "# Summary\n",
    "We now have a complete and clean data set containing only the organisms found in the human microbiome."
   ]
  }
 ],
 "metadata": {
  "kernelspec": {
   "display_name": "Python 3",
   "language": "python",
   "name": "python3"
  },
  "language_info": {
   "codemirror_mode": {
    "name": "ipython",
    "version": 3
   },
   "file_extension": ".py",
   "mimetype": "text/x-python",
   "name": "python",
   "nbconvert_exporter": "python",
   "pygments_lexer": "ipython3",
   "version": "3.6.6"
  }
 },
 "nbformat": 4,
 "nbformat_minor": 2
}
