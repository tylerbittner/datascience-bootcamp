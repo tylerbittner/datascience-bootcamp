{
 "cells": [
  {
   "cell_type": "markdown",
   "metadata": {},
   "source": [
    "# Course: Statistical Thinking in Python - Part 1\n",
    "[Course link](https://www.datacamp.com/courses/statistical-thinking-in-python-part-1)\n",
    "\n",
    "\n",
    "## Chapter 1: Graphical exploratory data analysis\n",
    "[Slides](slides/Statistical Thinking in Python - Part 1/ch1_slides.pdf)\n",
    "\n",
    "- Classic book [Exploratory Data Analysis](https://www.amazon.com/Exploratory-Data-Analysis-John-Tukey/dp/0201076160) by John Tukey (1977)\n",
    "- **Histograms**\n",
    "- Be aware of \"binning bias.\"  **Swarm plots** help mitigate this.\n",
    "- **Empirical Cumulative Distribution Functions (ECDFs)**\n",
    "  - Among the most important plots in statistical analysis. A good starting point in EDA.\n",
    "  - Shows all the data & gives complete picture of how they are distributed.  "
   ]
  },
  {
   "cell_type": "code",
   "execution_count": 6,
   "metadata": {
    "collapsed": true
   },
   "outputs": [],
   "source": [
    "# A typical ECDF function\n",
    "def ecdf(data):\n",
    "    \"\"\"Compute ECDF for a one-dimensional array of measurements.\"\"\"\n",
    "    n = len(data)\n",
    "    x = np.sort(data)\n",
    "    y = np.arange(1, n+1) / n\n",
    "\n",
    "    return x, y"
   ]
  },
  {
   "cell_type": "markdown",
   "metadata": {},
   "source": [
    "## Chapter 2: Quantitative exploratory data analysis\n",
    "[Slides](slides/Statistical Thinking in Python - Part 1/ch2_slides.pdf)\n",
    "\n",
    "- Focus: *Summary statistics*\n",
    "\n",
    "- mean: `np.mean()`\n",
    "- median: `np.mean()` (not affected by outliers)\n",
    "- **Box plots** show the 25th, 50th, and 75th quartiles in the box (when combined, this 50% is called the inter-quartile range [IQR]).  The whiskers extend to 1.5x the IQR or to the extent of the data.  (Box plots were invented by Tukey!)\n",
    "- Outliers are often delimited as 2 IQRs away from the median!\n",
    "- variance: `np.var()`\n",
    "- std deviation: `np.std()`\n",
    "- **scatter plots**\n",
    "- **Covariance** - A measure of how two quantities vary together. \n",
    "  - `np.cov()`\n",
    "  - `covariance = mean of [ (x(i) - x(mean)) * (y(i) - y(mean)) ]`\n",
    "- **Pearson correlation coefficient** - A \"unitless\" or \"dimensionless\" measure of covariance. \n",
    "  - `np.corrcoef()`\n",
    "  - **`𝜌`** ` = pearson correlation = covariance / (std of x) (std of y)`\n",
    "  - or `variability due to codependence / independent variability`\n",
    " "
   ]
  },
  {
   "cell_type": "code",
   "execution_count": 5,
   "metadata": {
    "collapsed": true
   },
   "outputs": [],
   "source": [
    "def pearson_r(x, y):\n",
    "    \"\"\"Compute Pearson correlation coefficient between two arrays.\"\"\"\n",
    "    corr_mat = np.corrcoef(x, y)\n",
    "    return corr_mat[0,1]"
   ]
  },
  {
   "cell_type": "markdown",
   "metadata": {},
   "source": [
    "## Chapter 3: Thinking probabilistically-- Discrete variables\n",
    "[Slides](slides/Statistical Thinking in Python - Part 1/ch3_slides.pdf)\n",
    "\n",
    "Numpy `random` module:\n",
    "- `np.random.random()` - Psuedo-random: the same seed will always produce the same result.\n",
    "- `np.random.seed()`\n",
    "\n",
    "Probability:\n",
    "- **Statistical inference** - The process by which we go from measured data to probabilistic conclusions about what we might expect if we collected the same data again.  Actionable decisions can be made on these conclusions.\n",
    "- **Probability** \"precisely defines uncertainty.\"\n",
    "  - The probability *p* of an event is the number of occurrences *n* divided by the number of samples.\n",
    "  - `p = n/samples`\n",
    "- **Probability Mass Function (PMF)** - The set of probabilities of *discrete* outcomes.\n",
    "  - Example: One roll of a die has a \"**discrete uniform** distribution.\"\n",
    "- **Distribution** - A mathematical description of outcomes.\n",
    "- **Binomial distribution** example is the outcome of one coin toss.\n",
    "  - `np.random.binomial(n, p, size=m)`\n",
    "  - The \"story\": The number of successes *r* in *n* Bernoulli trials with probability *p* of success is *binomially* distributed.  (With number of samples *m*.)\n",
    "  - (A Bernoulli trial is just an event with a boolean outcome.)\n",
    "- **Poisson process** - The timing of the next event is completely independent of when the previous event occurred.\n",
    "  - The number of arrivals *r* of a Poisson process in a given time interval with average rate of *λ* arrivals\n",
    "per interval is *Poisson distributed*.\n",
    "  - **Poisson distribution** is a limit of (approximates) the Binomial distribution for *rare* events.  (An event is binary -- it either happens or doesn't.)\n",
    "  - In other words: The Poisson distribution with arrival rate equal to *np* approximates a Binomial distribution for *n* Bernoulli trials with probability *p* of success (with *n* large and *p* small). \n",
    "  - `np.random.poisson()`\n",
    "\n"
   ]
  },
  {
   "cell_type": "markdown",
   "metadata": {},
   "source": [
    "## Chapter 4: Thinking probabilistically-- Continuous variables\n",
    "[Slides](slides/Statistical Thinking in Python - Part 1/ch4_slides.pdf)\n",
    "\n",
    "- **Probability Density Function (PDF)** - The set of probabilities of *continuous* outcomes.\n",
    "  - The probability is measured by the *area under the line* in a PDF.\n",
    "- **Normal (or Guassian) distribution** - Describes a continuous variable whose PDF has a single symmetric peak.\n",
    "  - `np.random.normal(mean, std)`\n",
    "- **Exponential distribution**\n",
    "  - : The *time between events* **τ** (tau) in a Poisson process is exponentially distributed.\n",
    "  - `np.random.exponential(mean)`"
   ]
  },
  {
   "cell_type": "markdown",
   "metadata": {},
   "source": [
    "---\n",
    "# Course: Statistical Thinking in Python - Part 2\n",
    "[Course link](https://www.datacamp.com/courses/statistical-thinking-in-python-part-2)\n",
    "\n",
    "\n",
    "## Chapter 1: Parameter estimation by optimization\n",
    "[Slides](slides/Statistical Thinking in Python - Part 2/ch1_slides.pdf)\n",
    "\n",
    "- **Optimal parameters** - Parameter values that bring the model in closest agreement with the data.\n",
    "- **Least squares** - The *process* of finding the parameters for which the sum of the squares of the residuals (rise) is minimal.  Also known as RSS (for *residual sum of squares*).\n",
    "  - `slope, intercept = np.polyfit(x_data, y_data, degree)`\n",
    "  - (A line is a first-degree polynomial)\n",
    "- Equation for a line: `y = ax + b`"
   ]
  },
  {
   "cell_type": "markdown",
   "metadata": {},
   "source": [
    "## Chapter 2: Bootstrap confidence intervals\n",
    "[Slides](slides/Statistical Thinking in Python - Part 2/ch2_slides.pdf)\n",
    "\n",
    "- **Bootstrapping** - The use of resampled data to perform statistical inference.\n",
    "- **Bootstrap sample** - An array that was drawn from the original data with replacement.\n",
    "- **Bootstrap replicate** - A statistic computed from a resampled array.\n",
    "- `np.random.choice()`"
   ]
  },
  {
   "cell_type": "markdown",
   "metadata": {},
   "source": [
    "## Chapter 3: Introduction to hypothesis testing\n",
    "[Slides](slides/Statistical Thinking in Python - Part 2/ch3_slides.pdf)"
   ]
  },
  {
   "cell_type": "markdown",
   "metadata": {},
   "source": [
    "## Chapter 4: Hypothesis test examples\n",
    "[Slides](slides/Statistical Thinking in Python - Part 2/ch4_slides.pdf)"
   ]
  },
  {
   "cell_type": "markdown",
   "metadata": {},
   "source": [
    "## Chapter 5: Putting it all together: a case study\n",
    "[Slides](slides/Statistical Thinking in Python - Part 2/ch5_slides.pdf)"
   ]
  },
  {
   "cell_type": "code",
   "execution_count": null,
   "metadata": {
    "collapsed": true
   },
   "outputs": [],
   "source": []
  }
 ],
 "metadata": {
  "kernelspec": {
   "display_name": "Python 3",
   "language": "python",
   "name": "python3"
  },
  "language_info": {
   "codemirror_mode": {
    "name": "ipython",
    "version": 3
   },
   "file_extension": ".py",
   "mimetype": "text/x-python",
   "name": "python",
   "nbconvert_exporter": "python",
   "pygments_lexer": "ipython3",
   "version": "3.6.6"
  }
 },
 "nbformat": 4,
 "nbformat_minor": 2
}
