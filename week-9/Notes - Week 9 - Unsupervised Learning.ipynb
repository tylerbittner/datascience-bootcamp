{
 "cells": [
  {
   "cell_type": "markdown",
   "metadata": {},
   "source": [
    "# Course: Unsupervised Learning in Python\n",
    "- [DataCamp course link](https://www.datacamp.com/courses/unsupervised-learning-in-python/)"
   ]
  },
  {
   "cell_type": "code",
   "execution_count": 3,
   "metadata": {
    "collapsed": true
   },
   "outputs": [],
   "source": [
    "# Pre-load modules used later\n",
    "from IPython.display import Image"
   ]
  },
  {
   "cell_type": "markdown",
   "metadata": {},
   "source": [
    "## Chapter 1: Clustering for dataset exploration\n",
    "- [Slides](slides/ch1_slides.pdf)\n",
    "\n",
    "\n",
    "**Unsupervised** tasks find patterns in data *without* a specific prediction task in mind.\n",
    "\n",
    "**k-means**\n",
    "- [**`sklearn.cluster.KMeans`**](https://scikit-learn.org/stable/modules/generated/sklearn.cluster.KMeans.html)\n",
    "    - `fit()` -- determines specified number (k) of cluster centroids\n",
    "    - `predict()` -- finds nearest centroid for each new sample\n",
    "- (Not to be confused with KNN, which is a *supervised classification* technique)\n",
    "\n",
    "Model performance metrics:\n",
    "- **cross-tabulation** is used to cross-check predicted labels with ground truth labels (if they are available!!).\n",
    "    - With pandas: `pd.crosstab(df['predicted_labels'], df['actual_labels'])`\n",
    "- **inertia** - measures how spread out the clusters are (*lower* is better).  *Does not require pre-labeled data.*  Mathematically, it's the mean of distances of each sample from its centroid.\n",
    "    - `model.inertia_`\n",
    "    \n",
    "\n",
    "In k-means, feature variance = feature influence, therefore normalization is often needed:\n",
    "- [`sklearn.preprocessing.StandardScaler`](https://scikit-learn.org/stable/modules/generated/sklearn.preprocessing.StandardScaler.html) -- Scales *all* values for a feature.\n",
    "- `sklearn.preprocessing.Normalizer` -- Scales each value *independently*.\n",
    "- `sklearn.preprocessing.MaxAbsScaler`\n"
   ]
  },
  {
   "cell_type": "markdown",
   "metadata": {},
   "source": [
    "## Chapter 2: Visualization with hierarchical clustering and t-SNE\n",
    "- [Slides](slides/ch2_slides.pdf)\n",
    "\n",
    "\n",
    "### Hierarchical clustering\n",
    "- Groups closest clusters into further clusters\n",
    "- \"agglomerative\" and \"divisive\" methods\n",
    "- A **dendrogram** is a great viz for hierarchies.  We'll use SciPy for this:\n",
    "    - **`scipy.cluster.hierarchy.linkage`**\n",
    "    - **`scipy.cluster.hierarchy.dendrogram`**\n",
    "        - The y-axis height in the dendrogram corresponds to *cluster distance*\n",
    "    - **`scipy.cluster.hierarchy.fcluster()`** -- returns NumPy array of cluster labels \n",
    "    \n",
    "## t-SNE\n",
    "- \"t-distributed stochastic neighbor embedding\" - Maps samples from a higher dimension into a 2D (or 3D) space, for easier visual interpretation!\n",
    "- `sklearn.manifold.TSNE`\n",
    "    - Only has a `.fit_transform()` method (not separate ones)\n",
    "    - `learning_rate` param is relevant here (usually between 50-200)"
   ]
  },
  {
   "cell_type": "markdown",
   "metadata": {},
   "source": [
    "## Chapter 3: Decorrelating your data and dimension reduction\n",
    "- [Slides](slides/ch3_slides.pdf)\n",
    "\n",
    "# PCA\n",
    "\n",
    "[**`sklearn.decomposition.PCA`**](https://scikit-learn.org/stable/modules/generated/sklearn.decomposition.PCA.html)\n",
    "\n",
    "\n",
    "Two steps in PCA process:\n",
    "1. **Decorrelation**\n",
    "    - Finds principle components/axes, re-aligns data with them, and shifts data samples to a mean of 0 (`model.mean_` attribute).\n",
    "    - `.fit()` learns the model, `transform()` applies it.\n",
    "    - Components are stored in `model.components_` attribute.\n",
    "    - Columns of transformed matrix are the *PCA features*.  PCA features are NOT linearly correlated like dataset features may be.\n",
    "    - The first principal component of the data is *the direction in which the data varies the most*\n",
    "1. **Dimension reduction**\n",
    "    - **intrinsic dimension** -- Number of features/dimensions needed to approximate a data set.  \n",
    "        - Truly informative PCA features are those with *significant variance*!\n",
    "        - As a correllary, *low variance* features are considered \"noise.\"\n",
    "        - Variances are stored in the `pca_model.explained_variance_` attribute.\n",
    "    - Optionally specify dimensions you want with `PCA(n_components=n)` \n",
    "\n",
    "\n",
    "Alternative implementation for sparse arrays such as **`scipy.sparse.csr_matrix`** (like used in tf-idf word count matrices):\n",
    "- [**`sklearn.decomposition.TruncatedSVD`**](https://scikit-learn.org/stable/modules/generated/sklearn.decomposition.TruncatedSVD.html) supports `csr_matrix` and behaves like `PCA`."
   ]
  },
  {
   "cell_type": "markdown",
   "metadata": {},
   "source": [
    "## Chapter 4: Discovering interpretable features\n",
    "- [Slides](slides/ch4_slides.pdf)\n",
    "\n",
    "### NMF - Non-negative Matrix Factorization\n",
    "[**`sklearn.decomposition.NMF`**](https://scikit-learn.org/stable/modules/generated/sklearn.decomposition.NMF.html)\n",
    "\n",
    "\n",
    "NMF models are *interpretable* (vs. PCA).  It achieves this by decomposing samples as sums of their parts.\n",
    "- For example, it expresses documents as \"topics\" and images as combinations of patterns.  These are the *components*.\n",
    "- NMF has principle components are just like with PCA.  You *must* however specify `n_components` when instantiating NMF.\n",
    "- Features are computed by training the model.\n",
    "- NMF can approximately reproduce the original samples by combining the components & features (the product of their matrices -- **M**atrix **F**actorization!).\n",
    "- Can only be applied to non-negative data samples.\n",
    "\n",
    "\n"
   ]
  },
  {
   "cell_type": "code",
   "execution_count": 4,
   "metadata": {},
   "outputs": [
    {
     "data": {
      "image/png": "[encoded data removed]",
      "text/plain": [
       "<matplotlib.figure.Figure at 0x10f07f860>"
      ]
     },
     "metadata": {},
     "output_type": "display_data"
    }
   ],
   "source": [
    "#\n",
    "# Display grayscale images from matrices using `plt.imshow()`\n",
    "#\n",
    "import matplotlib.pyplot as plt\n",
    "\n",
    "moon_bitmap = [[ 0., 0., 0., 0., 0., 0., 0., 0.],\n",
    "               [ 0., 0., 0., 0.7, 0.8, 0., 0., 0.],\n",
    "               [ 0., 0., 0.8, 0.8, 0.9, 1., 0., 0.],\n",
    "               [ 0., 0.7, 0.9, 0.9, 1., 1., 1., 0.],\n",
    "               [ 0., 0.8, 0.9, 1., 1., 1., 1., 0.],\n",
    "               [ 0., 0., 0.9, 1., 1., 1., 0., 0.],\n",
    "               [ 0., 0., 0., 0.9, 1., 0., 0., 0.],\n",
    "               [ 0., 0., 0., 0., 0., 0., 0., 0.]]\n",
    "\n",
    "plt.imshow(moon_bitmap, cmap='gray')\n",
    "plt.show()"
   ]
  },
  {
   "cell_type": "markdown",
   "metadata": {
    "collapsed": true
   },
   "source": [
    "### Recommender systems using NMF\n",
    "\n",
    "- **Cosine similarity** -- A measure of how similar documents are irrespective of their size. Mathematically, it measures the cosine of the angle between two vectors projected in a multi-dimensional space. The cosine similarity is advantageous because even if the two similar documents are far apart by the Euclidean distance (due to the size of the document), chances are they may still be oriented closer together. The smaller the angle, higher the cosine similarity. ([Reference](https://www.machinelearningplus.com/nlp/cosine-similarity/))"
   ]
  },
  {
   "cell_type": "code",
   "execution_count": 8,
   "metadata": {},
   "outputs": [
    {
     "data": {
      "text/html": [
       "<img src=\"https://www.machinelearningplus.com/wp-content/uploads/2018/10/soft-cosine.png\" width=\"600\"/>"
      ],
      "text/plain": [
       "<IPython.core.display.Image object>"
      ]
     },
     "execution_count": 8,
     "metadata": {},
     "output_type": "execute_result"
    }
   ],
   "source": [
    "# Cosine similarity example\n",
    "Image(url=\"https://www.machinelearningplus.com/wp-content/uploads/2018/10/soft-cosine.png\", width=600)"
   ]
  },
  {
   "cell_type": "code",
   "execution_count": null,
   "metadata": {
    "collapsed": true
   },
   "outputs": [],
   "source": []
  }
 ],
 "metadata": {
  "kernelspec": {
   "display_name": "Python 3",
   "language": "python",
   "name": "python3"
  },
  "language_info": {
   "codemirror_mode": {
    "name": "ipython",
    "version": 3
   },
   "file_extension": ".py",
   "mimetype": "text/x-python",
   "name": "python",
   "nbconvert_exporter": "python",
   "pygments_lexer": "ipython3",
   "version": "3.6.6"
  }
 },
 "nbformat": 4,
 "nbformat_minor": 2
}
