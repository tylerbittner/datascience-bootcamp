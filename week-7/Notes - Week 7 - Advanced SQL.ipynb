{
 "cells": [
  {
   "cell_type": "markdown",
   "metadata": {},
   "source": [
    "# Course: Joining Data in SQL\n",
    "- [DataCamp course link](https://www.datacamp.com/courses/joining-data-in-postgresql/)"
   ]
  },
  {
   "cell_type": "code",
   "execution_count": 1,
   "metadata": {
    "collapsed": true
   },
   "outputs": [],
   "source": [
    "# Pre-load modules used later\n",
    "from IPython.display import Image"
   ]
  },
  {
   "cell_type": "markdown",
   "metadata": {},
   "source": [
    "## Chapter 1: Introduction to joins\n",
    "- [Slides](slides/chapter1.pdf)\n",
    "\n",
    "### Venn diagram:"
   ]
  },
  {
   "cell_type": "code",
   "execution_count": 2,
   "metadata": {},
   "outputs": [
    {
     "data": {
      "text/html": [
       "<img src=\"http://i.imgur.com/1m55Wqo.jpg\"/>"
      ],
      "text/plain": [
       "<IPython.core.display.Image object>"
      ]
     },
     "execution_count": 2,
     "metadata": {},
     "output_type": "execute_result"
    }
   ],
   "source": [
    "Image(url=\"http://i.imgur.com/1m55Wqo.jpg\")"
   ]
  },
  {
   "cell_type": "markdown",
   "metadata": {},
   "source": [
    "## Chapter 2: Outer joins and cross joins\n",
    "- [Slides](slides/chapter2.pdf)\n",
    "\n",
    "- Joins covered: INNER, \"self\", LEFT, RIGHT, OUTER, CROSS\n",
    "- **CROSS JOIN**: Get all combinations of rows from multiple tables.\n",
    "\n",
    "## Chapter 3: Set theory clauses\n",
    "- [Slides](slides/chapter3.pdf)\n",
    "\n",
    "\n",
    "- **UNION**: stacks unique rows from both  tables.\n",
    "    - **vs FULL OUTER JOIN**: UNION does not use a common key to join.\n",
    "    - Can be used to de-dup rows of a common field shared across tables.\n",
    "- **UNION ALL**: *duplicates* records appearing in both tables.\n",
    "- **INTERSECT**: joins tables with common rows based on *all* columns.\n",
    "    - **vs INNER JOIN**: only uses the *specified* columns.\n",
    "- **EXCEPT**: Returns *distinct* records in one table but not the other.\n",
    "    - **vs NOT IN**: does not remove duplicates from result.\n",
    "    \n",
    "\n",
    "- Note: All queries combined using UNION, INTERSECT, or EXCEPT operators must have the same columns in their select clauses.\n",
    "\n",
    "\n",
    "- **\"semi-join\"** and **\"anti-join\"**:  Using *subqueries* in the WHERE clause to filter results.  \"Semi\" would be a positive condition, \"anti\" is a NOT condition."
   ]
  },
  {
   "cell_type": "markdown",
   "metadata": {},
   "source": [
    "## Chapter 4: Subqueries\n",
    "- [Slides](slides/chapter4.pdf)\n",
    "\n",
    "\n",
    "Example of subquery inside **SELECT** clause:"
   ]
  },
  {
   "cell_type": "markdown",
   "metadata": {},
   "source": [
    "```sql\n",
    "SELECT DISTINCT continent,\n",
    "    (SELECT COUNT(*)\n",
    "    FROM states\n",
    "    WHERE prime_ministers.continent = states.continent) AS countries_num\n",
    "FROM prime_ministers;\n",
    "```\n"
   ]
  },
  {
   "cell_type": "markdown",
   "metadata": {},
   "source": [
    "Example of subquery inside **WHERE** clause:"
   ]
  },
  {
   "cell_type": "markdown",
   "metadata": {},
   "source": [
    "```sql\n",
    "SELECT name, fert_rate\n",
    "FROM states\n",
    "WHERE continent = 'Asia' \n",
    "    AND fert_rate <\n",
    "        (SELECT AVG(fert_rate)\n",
    "        FROM states);\n",
    "```"
   ]
  },
  {
   "cell_type": "markdown",
   "metadata": {},
   "source": [
    "Example of subquery inside **FROM** clause (uses a temp table):"
   ]
  },
  {
   "cell_type": "markdown",
   "metadata": {},
   "source": [
    "```sql\n",
    "SELECT DISTINCT monarchs.continent, subquery.max_perc\n",
    "    FROM monarchs,\n",
    "        (SELECT continent, MAX(women_parli_perc) AS max_perc\n",
    "        FROM states\n",
    "        GROUP BY continent) AS subquery\n",
    "WHERE monarchs.continent = subquery.continent\n",
    "ORDER BY continent;\n",
    "```"
   ]
  }
 ],
 "metadata": {
  "kernelspec": {
   "display_name": "Python 3",
   "language": "python",
   "name": "python3"
  },
  "language_info": {
   "codemirror_mode": {
    "name": "ipython",
    "version": 3
   },
   "file_extension": ".py",
   "mimetype": "text/x-python",
   "name": "python",
   "nbconvert_exporter": "python",
   "pygments_lexer": "ipython3",
   "version": "3.6.6"
  }
 },
 "nbformat": 4,
 "nbformat_minor": 2
}
