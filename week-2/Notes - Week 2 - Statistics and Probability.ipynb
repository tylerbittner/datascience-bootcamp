{
 "cells": [
  {
   "cell_type": "markdown",
   "metadata": {
    "collapsed": true
   },
   "source": [
    "# Course: Statistics and Probability\n",
    "\n",
    "[Kahn Academy Course link](https://www.khanacademy.org/math/statistics-probability)"
   ]
  },
  {
   "cell_type": "code",
   "execution_count": 1,
   "metadata": {
    "collapsed": true
   },
   "outputs": [],
   "source": [
    "# Pre-load modules used later\n",
    "from IPython.display import Image"
   ]
  },
  {
   "cell_type": "markdown",
   "metadata": {},
   "source": [
    "## Supplement: [Seeing Theory](https://seeing-theory.brown.edu)\n",
    "- **Probability theory** is the mathematical framework that allows us to analyze chance events in a logically sound manner. \n",
    "- The **expectation** of a random variable is a number that attempts to capture the center of that random variable's distribution. \n",
    "- **Random variable** - A mathematical object holding a number assigned to the possible outcomes — say, 1 for heads and 0 for tails, or 1-6 for a die.\n",
    "  - Or: A function that assigns a real number to each outcome in the probability space.\n",
    "- The **expectation** of a random variable is a number that attempts to capture the center of that random variable's distribution.\n",
    "- the **variance** of a random variable quantifies the spread of that random variable's distribution.\n",
    "- An **estimator** is simply any function of randomly sampled *observations*.\n",
    "- **Bayes' Theorem**: Measures probability of the case \"Given a positive test result, what is the probability that I actually have the disease?\""
   ]
  },
  {
   "cell_type": "markdown",
   "metadata": {},
   "source": [
    "---\n",
    "# Statistics\n",
    "\n",
    "## Analyzing categorical data\n",
    "- **midrange** - mean of the two *maximum and minimum* values in a set.\n",
    "- **mode** - most common value in a set\n",
    "- Marginal distribution - In a spreadsheet-like table, these are the \"total\" values across either rows or columns.\n",
    "- Conditional distribution - Values in a row or column, typically given as percentages (%) of the total.\n",
    "\n",
    "## Summarizing quantitative data\n",
    "- **mean**, **median**\n",
    "- **Variance** - The average of the squared differences from the mean.\n",
    "- **Standard deviation** is the square root of the variance.\n",
    "  - Excel function: **`STDEVP()`** (P for the whole Population)"
   ]
  },
  {
   "cell_type": "code",
   "execution_count": 2,
   "metadata": {},
   "outputs": [
    {
     "data": {
      "text/html": [
       "<img src=\"https://www.mathsisfun.com/data/images/standard-deviation-formula.gif\"/>"
      ],
      "text/plain": [
       "<IPython.core.display.Image object>"
      ]
     },
     "execution_count": 2,
     "metadata": {},
     "output_type": "execute_result"
    }
   ],
   "source": [
    "# Standard deviation formula\n",
    "Image(url= \"https://www.mathsisfun.com/data/images/standard-deviation-formula.gif\")"
   ]
  },
  {
   "cell_type": "markdown",
   "metadata": {},
   "source": [
    "- ***Sample* standard deviation (or variance):** - Divide by **N-1** when calculating from a sample.\n",
    "  - Excel function: **`STDEV()`**"
   ]
  },
  {
   "cell_type": "code",
   "execution_count": 3,
   "metadata": {},
   "outputs": [
    {
     "data": {
      "text/html": [
       "<img src=\"https://www.mathsisfun.com/data/images/standard-deviation-sample.gif\"/>"
      ],
      "text/plain": [
       "<IPython.core.display.Image object>"
      ]
     },
     "execution_count": 3,
     "metadata": {},
     "output_type": "execute_result"
    }
   ],
   "source": [
    "# *Sample* standard deviation formula\n",
    "Image(url= \"https://www.mathsisfun.com/data/images/standard-deviation-sample.gif\")"
   ]
  },
  {
   "cell_type": "markdown",
   "metadata": {},
   "source": [
    "- **Mean Absolute Deviation (MAD)** - Excludes the squaring and square-rooting.\n",
    "- **Interquartile Range (IQR)** - The *range* of the middle 75% of values.\n",
    "  - Gotcha watch: *Exclude the median* when finding the median of the lower and upper halves!"
   ]
  },
  {
   "cell_type": "markdown",
   "metadata": {
    "collapsed": true
   },
   "source": [
    "## Modeling data distributions\n",
    "\n",
    "- **Percentile** - What percent of *observations* are strictly *less than* a given value in a distribution.\n",
    "- **z-score** - How many std devs away from the mean an observation is. (Applies to any type of distribution, not just normal.)\n",
    "  - `z = (data point - mean) / std dev`\n",
    "  - `z = (x − μ) / σ`\n",
    "- [z-score table for reference](http://www.z-table.com/)\n",
    "- **Probabilty Density Curve/Function**\n",
    "  - The *area* under the curve is always 1.\n",
    "- For reference: \n",
    "  - `area of a triangle = 1/2 * base * height`\n",
    "  - `area of a trapezoid = (h1 + h2) / 2 * base`\n",
    "- **Empirical Rule** aka **68-95-99.7 Rule** - For a *normal* distribution, 68% of the values lie **within** the first std deviation, 95% lie within the second, and 99.7% lie within the third.\n",
    "  - Remember, the 68/95/99.7 are a range centered around the mean, NOT the proportion below that point.  E.g. to get the % *below the mean + 1 std dev, subtract 68% from 100%*.\n"
   ]
  },
  {
   "cell_type": "code",
   "execution_count": 4,
   "metadata": {},
   "outputs": [
    {
     "data": {
      "text/html": [
       "<img src=\"https://i.stack.imgur.com/aM3fG.png\"/>"
      ],
      "text/plain": [
       "<IPython.core.display.Image object>"
      ]
     },
     "execution_count": 4,
     "metadata": {},
     "output_type": "execute_result"
    }
   ],
   "source": [
    "# Empirical/68-95-99.7 Rule visualization\n",
    "Image(url=\"https://i.stack.imgur.com/aM3fG.png\")"
   ]
  },
  {
   "cell_type": "markdown",
   "metadata": {
    "collapsed": true
   },
   "source": [
    "## Exploring bivariate numerical data\n",
    "\n",
    "[Article: How to select the Right Evaluation Metric for Machine Learning Models](https://towardsdatascience.com/how-to-select-the-right-evaluation-metric-for-machine-learning-models-part-1-regrression-metrics-3606e25beae0)\n",
    "\n",
    "- **Correlation coefficient (r)** aka **Pearson correlation coefficient** - Measures the strength of the linear correlation between two variables."
   ]
  },
  {
   "cell_type": "code",
   "execution_count": 5,
   "metadata": {},
   "outputs": [
    {
     "data": {
      "text/html": [
       "<img src=\"http://www.stat.yale.edu/Courses/1997-98/101/cor.gif\"/>"
      ],
      "text/plain": [
       "<IPython.core.display.Image object>"
      ]
     },
     "execution_count": 5,
     "metadata": {},
     "output_type": "execute_result"
    }
   ],
   "source": [
    "# Correlation coefficient (r) formula\n",
    "Image(url=\"http://www.stat.yale.edu/Courses/1997-98/101/cor.gif\")"
   ]
  },
  {
   "cell_type": "markdown",
   "metadata": {},
   "source": [
    "- **Residual** - Distance between a data point and the regression line.\n",
    "\n",
    "**How to find the \"least-squares\" regression line equation from summary stats (means, std devs, and correlation coef.)**\n",
    "1. Regression line equation: \n",
    "  - `ŷ = mx + b`\n",
    "1. The slope equation from summary stats: \n",
    " - `m = r * (σᵧ / σᵪ)`\n",
    "1. Then find `b`, the y-intercept, by plugging in the one point we know, where the mean of x and mean of y intersect, into the line equation.\n",
    "\n",
    "\n",
    "A **residual plot** is a good way to find out whether a linear or a higher-order equation may be a better fit for the data.\n",
    "\n",
    "**r-squared** aka **coefficient of determination** - Measures percentage of the prediction error in the *y* variable eliminated when we use least-squares regression on the *x* variable.\n",
    "  - More formally: Measures percent of the variability in the *y* variable accounted for by the regression on the *x* variable.\n",
    "  - Equation: `1 - (squared error of the line / squared error of the mean of y) `"
   ]
  },
  {
   "cell_type": "code",
   "execution_count": 6,
   "metadata": {},
   "outputs": [
    {
     "data": {
      "text/html": [
       "<img src=\"https://cdn-images-1.medium.com/max/1600/1*WCaWmRreXCQxLez4yYOy5w.png\"/>"
      ],
      "text/plain": [
       "<IPython.core.display.Image object>"
      ]
     },
     "execution_count": 6,
     "metadata": {},
     "output_type": "execute_result"
    }
   ],
   "source": [
    "# r-squared equation\n",
    "Image(url=\"https://cdn-images-1.medium.com/max/1600/1*WCaWmRreXCQxLez4yYOy5w.png\")"
   ]
  },
  {
   "cell_type": "code",
   "execution_count": 7,
   "metadata": {},
   "outputs": [
    {
     "data": {
      "text/html": [
       "<img src=\"http://onlinestatbook.com/2/regression/graphics/se_est.gif\"/>"
      ],
      "text/plain": [
       "<IPython.core.display.Image object>"
      ]
     },
     "execution_count": 7,
     "metadata": {},
     "output_type": "execute_result"
    }
   ],
   "source": [
    "# Squared error of the regression line\n",
    "Image(url=\"http://onlinestatbook.com/2/regression/graphics/se_est.gif\")"
   ]
  },
  {
   "cell_type": "markdown",
   "metadata": {},
   "source": [
    "- **Mean-squared-error (MSE)**:\n",
    "  - Measures the size of a typical prediction error in the *y* variable.\n",
    "  - In more formal terms, measures the average of the squares of the errors — that is, the average squared difference between the estimated values and what is estimated.\n",
    "  >\\begin{equation*}\n",
    "MSE = \\frac{1}{N} \\sum_{i=1}^N (y_i - ŷ_i)^2\n",
    "\\end{equation*}\n",
    "\n",
    "\n",
    "```python\n",
    "from sklearn.metrics import mean_squared_error\n",
    "mse = mean_squared_error(y_test, y_pred)\n",
    "```"
   ]
  },
  {
   "cell_type": "markdown",
   "metadata": {},
   "source": [
    "- **Root-mean-square error (RMSE)** aka **standard deviation of residuals** - The square root is introduced to make scale of the errors to be the same as the scale of targets.\n",
    "  >\\begin{equation*}\n",
    "RMSE = \\sqrt{\\frac{1}{N} \\sum_{i=1}^N (y_i - ŷ_i)^2} = \\sqrt{MSE}\n",
    "\\end{equation*}"
   ]
  },
  {
   "cell_type": "markdown",
   "metadata": {},
   "source": [
    "- Always remember: *Correlation does not necessarily imply causation*"
   ]
  },
  {
   "cell_type": "markdown",
   "metadata": {
    "collapsed": true
   },
   "source": [
    "## Study Design\n",
    "\n",
    "- **10% Rule** - A convention that if sample is <= 10% of population we can assume *independence* of trials.\n",
    "\n",
    "### Types of statistical studies\n",
    "- **Sample study** - Goal is to estimate the value of a parameter of a population from a sample.\n",
    "- **Observational study** - Goal is to find out whether two parameters are correlated.\n",
    "- **Experimental study** - Goal is to establish *causality* thru separate control and treatment groups. (The basis of the scientific method!)\n",
    "\n",
    "### Types of sampling\n",
    "- Simple random sample\n",
    "- Stratified random sample - Take random samples from multiple groups to even-out representation.\n",
    "- Cluster random sample\n",
    "- Systematic random sample\n",
    "#### Biased sampling types\n",
    "- Voluntary response sampling: Self-selection within the population\n",
    "- Convenience sampling: Chosing an easily-available sample without using any randomization\n",
    "\n",
    "### Types of bias\n",
    "- Undercoverage: Systematic exclusion of members of the population from being in the sample.\n",
    "- Nonresponse: people chosen for the sample cannot be reached or refuse to participate.\n",
    "- Response bias: when people are systematically dishonest when answering a question\n",
    "- Biased wording\n",
    "\n",
    "### Experiment design\n",
    "- Block design - Divide up experiment population into blocks to ensure proper representation between control and treatment groups (subset of statified design).\n",
    "- Matched pairs design - Swap the treatment and control groups and perform experiment again to mitigate unintentional differences between groups.\n",
    "\n",
    "### Experiment terms \n",
    "- A **response variable** is the focus of a question in a study or experiment; measures the result of a study.\n",
    "- An **explanatory variable** is one that *explains changes in another variable* (the response variable). It can be anything that might affect the response variable.\n",
    "- **treatment** - the specific level of the explanatory variable given to individuals in an experiment. E.g. 10mg of a drug and 0mg/placebo.\n",
    "\n",
    "- **experimental units** - who or what we are assigning to a treatment."
   ]
  },
  {
   "cell_type": "markdown",
   "metadata": {
    "collapsed": true
   },
   "source": [
    "---\n",
    "# Probability\n",
    "Simple definition: how likely something is to happen.\n",
    "\n",
    ">```\n",
    "P(condition) =     # of possibilities that meet conditions \n",
    "                ---------------------------------------------\n",
    "                     # of equally likely possibilities\n",
    "```\n",
    "\n",
    "- **The \"Monty Hall\" problem** - Moral of the story: always switch doors after shown a goat. ;)\n",
    "  - **Intuition**: After revealing a door *without* the prize, the 2/3 probability of picking wrong *concentrates on* the door not picked/not shown.\n",
    "  - The intuition feels much clearer when using an example with **100 doors** where 98 goats are revealed.  It's then obvious the chances of the car being behind the one unrevealed door, instead of the randome one you picked, are very high (99/100 probability).\n",
    "  \n",
    "  \n",
    "- **Experimental Probabilty** (vs. Theoretical Probabilty)\n",
    "  - \"Experimental\" means *estimated* based on historical outcomes.\n",
    "  \n",
    "- **\"Compound\" sample spaces**\n",
    "  \n",
    "## Set theory\n",
    "[Set symbols reference by RapidTables](https://www.rapidtables.com/math/symbols/Set_Symbols.html)"
   ]
  },
  {
   "cell_type": "markdown",
   "metadata": {
    "collapsed": true
   },
   "source": [
    "## Rules & Generalizations\n",
    "- **Addition rule: for OR'd events**\n",
    ">**`P(A or B) = P(A) + P(B) - P(A and B)`**\n",
    "  - This handles both cases of mutually exclusive and not.\n",
    "  \n",
    "- **Multiplication rule: for AND'd events**\n",
    "  - For *independent* events:\n",
    ">**`P(A and B) = P(A) * P(B)`**\n",
    "\n",
    "  - For *dependent* events:\n",
    ">**`P(A and B) = P(A) * P(B|A)`**\n",
    "  \n",
    "\n",
    "- **Multiple *equally-likely* events**\n",
    ">**`P(event then event then event) = P(event) ^ # events`**\n",
    "\n",
    "- **Multiple events with different probabilities**\n",
    ">**`P(event A then event B) = P(event A) * P(event B)`**\n",
    "\n",
    "- **Probabilities involving \"at least one\" success**\n",
    ">**`P(at least 1 success) = 1 - P(all failures)`**\n",
    "\n",
    "  or\n",
    ">**`P(at least 1 failure) = 1 - P(all successes)`**\n",
    "\n",
    "- **Testing for event independence:** Events are *independent* if all are true:\n",
    "  - `P(A|B) = P(A)`\n",
    "  - `P(B|A) = P(B)`\n",
    "  - `P(A and B) = P(A) * P(B)`\n",
    "\n",
    "\n",
    "- **Probability of exactly *k* successes in *n* trials**\n",
    "  >\\begin{equation*}\n",
    "P(E) = {n \\choose k} p^k (1-p)^{n-k}\n",
    "\\end{equation*}"
   ]
  },
  {
   "cell_type": "markdown",
   "metadata": {
    "collapsed": true
   },
   "source": [
    "---\n",
    "# Counting, permutations, and combinations\n",
    "\n",
    "- **Combinatorics** - \"The branch of mathematics dealing with combinations of objects belonging to a finite set in accordance with certain constraints, such as those of graph theory.\"\n",
    "- Note: **`0 factorial, 0! = 1`**\n",
    "\n",
    "## Permutations\n",
    "\n",
    "- **Permutation** - An *ordered* combination of items in a set.  Order/position *does* matter!\n",
    "- Two types:\n",
    "  - Repetition is allowed (such as marbles being replaced in a bag after choosing)\n",
    "  - Repetition is *not* allowed (such as a lottery ball machine)\n",
    "  \n",
    "  \n",
    "- **Permutation formula:** (where no repeats of **n** are allowed)\n",
    ">```\n",
    "nPk or P(n,k) =    n!               or   = n * (n-1) * ... (n-(k-1))\n",
    "                 ----------\n",
    "                  (n - k)!\n",
    "```\n",
    "\n",
    "  - Where \n",
    "    - `n = # of items/events` and \n",
    "    - `k = # of positions`\n",
    "\n",
    "## Combinations\n",
    "\n",
    "- **Combination** - A set where order does *not* matter.\n",
    "- **Combinations formula:**\n",
    "  >\\begin{equation*}\n",
    "{n \\choose k} = \\frac{n!}{k! \\ (n - k)!} = \\frac{\\# \\ of permutations}{\\# \\ of positions}\n",
    "\\end{equation*}\n",
    "\n",
    "  - \"n choose k\"\n",
    "  - Where\n",
    "    - `n = # of items/trials` and\n",
    "    - `k = # of ways to arrange k things`\n",
    "  - `k` is aka the \"binomial coefficient\"\n"
   ]
  },
  {
   "cell_type": "markdown",
   "metadata": {},
   "source": [
    "---\n",
    "# Random variables\n",
    "\n",
    "## Expected value: \n",
    "- `E(X) = μᵪ` \n",
    "  - (μ = mean)\n",
    "\n",
    "## Variance:\n",
    "- **`Var(X) = E((X - μᵪ)²) = σᵪ²`**\n",
    "  - (This is just review)\n",
    "  \n",
    "## Combining random variables\n",
    "- **`E(X +/- Y) = E(X) +/- E(Y)`**\n",
    "- **`μ₍ᵪ₊₋ᵧ₎ = μᵪ +/- μᵧ`**\n",
    "  - The means (same as \"expected value\") are either summed or subtracted accordingly. \n",
    "\n",
    "\n",
    "If X & Y are *independent* random variables:\n",
    "- **`Var(X +/- Y) = Var(X) + Var(Y)`**\n",
    "  - The variances are *always summed*.  This makes intuitive sense yo.\n",
    "  - Equivalent statement:\n",
    "    - **`σ²₍ᵪ₊ᵧ₎ = σᵪ² + σᵧ²`**\n",
    "    - **`σ²₍ᵪ₋ᵧ₎ = σᵪ² + σᵧ²`**\n",
    "  - Note the same is *not* true for std dev\n",
    "\n",
    "## Binomial variables\n",
    "\n",
    "Necessary conditions of a binomial variable:\n",
    "- Made up of independent trials\n",
    "- Probability of each trial's success is constant\n",
    "- Each trial must have binary outcome\n",
    "- Fixed # of trials\n",
    "\n",
    "## Binomial distribution\n",
    "\n",
    "- The \"discrete\" version of the normal distribution.\n",
    "- See [scipy.stats.binom( )](https://docs.scipy.org/doc/scipy/reference/generated/scipy.stats.binom.html#scipy.stats.binom) function"
   ]
  },
  {
   "cell_type": "code",
   "execution_count": null,
   "metadata": {
    "collapsed": true
   },
   "outputs": [],
   "source": []
  }
 ],
 "metadata": {
  "kernelspec": {
   "display_name": "Python 3",
   "language": "python",
   "name": "python3"
  },
  "language_info": {
   "codemirror_mode": {
    "name": "ipython",
    "version": 3
   },
   "file_extension": ".py",
   "mimetype": "text/x-python",
   "name": "python",
   "nbconvert_exporter": "python",
   "pygments_lexer": "ipython3",
   "version": "3.6.6"
  }
 },
 "nbformat": 4,
 "nbformat_minor": 2
}
